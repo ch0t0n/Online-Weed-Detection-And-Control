{
 "cells": [
  {
   "cell_type": "code",
   "execution_count": 1,
   "metadata": {},
   "outputs": [
    {
     "name": "stdout",
     "output_type": "stream",
     "text": [
      "Received: DJI_0373-crop_820_860.JPG\n",
      "Received: DJI_0373-crop_700_780.JPG\n",
      "Received: DJI_0373-crop_1700_60.JPG\n",
      "Received: DJI_0373-crop_1320_420.JPG\n",
      "Received: DJI_0373-crop_2380_80.JPG\n",
      "Received: DJI_0373-crop_1220_960.JPG\n",
      "Received: DJI_0373-crop_2340_980.JPG\n",
      "Received: DJI_0373-crop_100_1300.JPG\n",
      "Received: DJI_0373-crop_1540_120.JPG\n",
      "Received: DJI_0373-crop_1680_900.JPG\n"
     ]
    },
    {
     "ename": "KeyboardInterrupt",
     "evalue": "",
     "output_type": "error",
     "traceback": [
      "\u001b[0;31m---------------------------------------------------------------------------\u001b[0m",
      "\u001b[0;31mKeyboardInterrupt\u001b[0m                         Traceback (most recent call last)",
      "\u001b[1;32m/Users/choton/Library/CloudStorage/OneDrive-KansasStateUniversity/PhD_Research/Projects/Weed_Control_Project_2023/Codes/integration_1/receive_test.ipynb Cell 1\u001b[0m line \u001b[0;36m1\n\u001b[1;32m     <a href='vscode-notebook-cell:/Users/choton/Library/CloudStorage/OneDrive-KansasStateUniversity/PhD_Research/Projects/Weed_Control_Project_2023/Codes/integration_1/receive_test.ipynb#W0sZmlsZQ%3D%3D?line=11'>12</a>\u001b[0m         \u001b[39mprint\u001b[39m(\u001b[39m\"\u001b[39m\u001b[39mReceived:\u001b[39m\u001b[39m\"\u001b[39m, strings)\n\u001b[1;32m     <a href='vscode-notebook-cell:/Users/choton/Library/CloudStorage/OneDrive-KansasStateUniversity/PhD_Research/Projects/Weed_Control_Project_2023/Codes/integration_1/receive_test.ipynb#W0sZmlsZQ%3D%3D?line=13'>14</a>\u001b[0m \u001b[39mif\u001b[39;00m \u001b[39m__name__\u001b[39m \u001b[39m==\u001b[39m \u001b[39m\"\u001b[39m\u001b[39m__main__\u001b[39m\u001b[39m\"\u001b[39m:\n\u001b[0;32m---> <a href='vscode-notebook-cell:/Users/choton/Library/CloudStorage/OneDrive-KansasStateUniversity/PhD_Research/Projects/Weed_Control_Project_2023/Codes/integration_1/receive_test.ipynb#W0sZmlsZQ%3D%3D?line=14'>15</a>\u001b[0m     subscribe_to_strings()\n",
      "\u001b[1;32m/Users/choton/Library/CloudStorage/OneDrive-KansasStateUniversity/PhD_Research/Projects/Weed_Control_Project_2023/Codes/integration_1/receive_test.ipynb Cell 1\u001b[0m line \u001b[0;36m1\n\u001b[1;32m      <a href='vscode-notebook-cell:/Users/choton/Library/CloudStorage/OneDrive-KansasStateUniversity/PhD_Research/Projects/Weed_Control_Project_2023/Codes/integration_1/receive_test.ipynb#W0sZmlsZQ%3D%3D?line=7'>8</a>\u001b[0m socket\u001b[39m.\u001b[39msubscribe(\u001b[39m\"\u001b[39m\u001b[39m\"\u001b[39m)\n\u001b[1;32m     <a href='vscode-notebook-cell:/Users/choton/Library/CloudStorage/OneDrive-KansasStateUniversity/PhD_Research/Projects/Weed_Control_Project_2023/Codes/integration_1/receive_test.ipynb#W0sZmlsZQ%3D%3D?line=9'>10</a>\u001b[0m \u001b[39mwhile\u001b[39;00m \u001b[39mTrue\u001b[39;00m:\n\u001b[0;32m---> <a href='vscode-notebook-cell:/Users/choton/Library/CloudStorage/OneDrive-KansasStateUniversity/PhD_Research/Projects/Weed_Control_Project_2023/Codes/integration_1/receive_test.ipynb#W0sZmlsZQ%3D%3D?line=10'>11</a>\u001b[0m     strings \u001b[39m=\u001b[39m socket\u001b[39m.\u001b[39;49mrecv_string()        \n\u001b[1;32m     <a href='vscode-notebook-cell:/Users/choton/Library/CloudStorage/OneDrive-KansasStateUniversity/PhD_Research/Projects/Weed_Control_Project_2023/Codes/integration_1/receive_test.ipynb#W0sZmlsZQ%3D%3D?line=11'>12</a>\u001b[0m     \u001b[39mprint\u001b[39m(\u001b[39m\"\u001b[39m\u001b[39mReceived:\u001b[39m\u001b[39m\"\u001b[39m, strings)\n",
      "File \u001b[0;32m~/Library/Python/3.11/lib/python/site-packages/zmq/sugar/socket.py:934\u001b[0m, in \u001b[0;36mSocket.recv_string\u001b[0;34m(self, flags, encoding)\u001b[0m\n\u001b[1;32m    914\u001b[0m \u001b[39mdef\u001b[39;00m \u001b[39mrecv_string\u001b[39m(\u001b[39mself\u001b[39m, flags: \u001b[39mint\u001b[39m \u001b[39m=\u001b[39m \u001b[39m0\u001b[39m, encoding: \u001b[39mstr\u001b[39m \u001b[39m=\u001b[39m \u001b[39m'\u001b[39m\u001b[39mutf-8\u001b[39m\u001b[39m'\u001b[39m) \u001b[39m-\u001b[39m\u001b[39m>\u001b[39m \u001b[39mstr\u001b[39m:\n\u001b[1;32m    915\u001b[0m \u001b[39m    \u001b[39m\u001b[39m\"\"\"Receive a unicode string, as sent by send_string.\u001b[39;00m\n\u001b[1;32m    916\u001b[0m \n\u001b[1;32m    917\u001b[0m \u001b[39m    Parameters\u001b[39;00m\n\u001b[0;32m   (...)\u001b[0m\n\u001b[1;32m    932\u001b[0m \u001b[39m        for any of the reasons :func:`~Socket.recv` might fail\u001b[39;00m\n\u001b[1;32m    933\u001b[0m \u001b[39m    \"\"\"\u001b[39;00m\n\u001b[0;32m--> 934\u001b[0m     msg \u001b[39m=\u001b[39m \u001b[39mself\u001b[39;49m\u001b[39m.\u001b[39;49mrecv(flags\u001b[39m=\u001b[39;49mflags)\n\u001b[1;32m    935\u001b[0m     \u001b[39mreturn\u001b[39;00m \u001b[39mself\u001b[39m\u001b[39m.\u001b[39m_deserialize(msg, \u001b[39mlambda\u001b[39;00m buf: buf\u001b[39m.\u001b[39mdecode(encoding))\n",
      "File \u001b[0;32mzmq/backend/cython/socket.pyx:805\u001b[0m, in \u001b[0;36mzmq.backend.cython.socket.Socket.recv\u001b[0;34m()\u001b[0m\n",
      "File \u001b[0;32mzmq/backend/cython/socket.pyx:841\u001b[0m, in \u001b[0;36mzmq.backend.cython.socket.Socket.recv\u001b[0;34m()\u001b[0m\n",
      "File \u001b[0;32mzmq/backend/cython/socket.pyx:194\u001b[0m, in \u001b[0;36mzmq.backend.cython.socket._recv_copy\u001b[0;34m()\u001b[0m\n",
      "File \u001b[0;32m~/Library/Python/3.11/lib/python/site-packages/zmq/backend/cython/checkrc.pxd:13\u001b[0m, in \u001b[0;36mzmq.backend.cython.checkrc._check_rc\u001b[0;34m()\u001b[0m\n",
      "\u001b[0;31mKeyboardInterrupt\u001b[0m: "
     ]
    }
   ],
   "source": [
    "import zmq\n",
    "\n",
    "def subscribe_to_strings(port=5556):\n",
    "    context = zmq.Context()\n",
    "    socket = context.socket(zmq.SUB)\n",
    "    socket.connect(f\"tcp://localhost:{port}\")\n",
    "    socket.subscribe(\"\")\n",
    "\n",
    "    while True:\n",
    "        strings = socket.recv_string()        \n",
    "        print(\"Received:\", strings)\n",
    "\n",
    "\n",
    "if __name__ == \"__main__\":\n",
    "    subscribe_to_strings()\n"
   ]
  }
 ],
 "metadata": {
  "kernelspec": {
   "display_name": "Python 3",
   "language": "python",
   "name": "python3"
  },
  "language_info": {
   "codemirror_mode": {
    "name": "ipython",
    "version": 3
   },
   "file_extension": ".py",
   "mimetype": "text/x-python",
   "name": "python",
   "nbconvert_exporter": "python",
   "pygments_lexer": "ipython3",
   "version": "3.11.5"
  }
 },
 "nbformat": 4,
 "nbformat_minor": 2
}
