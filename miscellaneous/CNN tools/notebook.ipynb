{
 "cells": [
  {
   "cell_type": "code",
   "execution_count": null,
   "metadata": {},
   "outputs": [
    {
     "ename": "",
     "evalue": "",
     "output_type": "error",
     "traceback": [
      "\u001b[1;31mRunning cells with '/Users/choton/Desktop/My Mac/CNN tools/cnn_tools/bin/python' requires the ipykernel package.\n",
      "\u001b[1;31mRun the following command to install 'ipykernel' into the Python environment. \n",
      "\u001b[1;31mCommand: 'conda install -p /Users/choton/Desktop/My Mac/CNN tools/cnn_tools ipykernel --update-deps --force-reinstall'"
     ]
    }
   ],
   "source": [
    "conda info"
   ]
  },
  {
   "cell_type": "code",
   "execution_count": 2,
   "metadata": {},
   "outputs": [
    {
     "name": "stdout",
     "output_type": "stream",
     "text": [
      "Retrieving notices: ...working... done\n",
      "Collecting package metadata (current_repodata.json): done\n",
      "Solving environment: done\n",
      "\n",
      "## Package Plan ##\n",
      "\n",
      "  environment location: /Users/choton/Desktop/My Mac/CNN tools/cnn_tools\n",
      "\n",
      "  added / updated specs:\n",
      "    - pytorch\n",
      "    - torchvision\n",
      "\n",
      "\n",
      "The following packages will be downloaded:\n",
      "\n",
      "    package                    |            build\n",
      "    ---------------------------|-----------------\n",
      "    filelock-3.9.0             |  py310hca03da5_0          19 KB\n",
      "    gmpy2-2.1.2                |  py310h8c48613_0         152 KB\n",
      "    jinja2-3.1.2               |  py310hca03da5_0         218 KB\n",
      "    mpc-1.1.0                  |       h8c48613_1         104 KB\n",
      "    mpfr-4.0.2                 |       h695f6f0_1         423 KB\n",
      "    mpmath-1.3.0               |  py310hca03da5_0         853 KB\n",
      "    networkx-3.1               |  py310hca03da5_0         2.8 MB\n",
      "    pytorch-2.0.1              |         py3.10_0        47.1 MB  pytorch\n",
      "    sympy-1.11.1               |  py310hca03da5_0        11.8 MB\n",
      "    torchvision-0.15.2         |        py310_cpu         6.4 MB  pytorch\n",
      "    ------------------------------------------------------------\n",
      "                                           Total:        69.7 MB\n",
      "\n",
      "The following NEW packages will be INSTALLED:\n",
      "\n",
      "  filelock           pkgs/main/osx-arm64::filelock-3.9.0-py310hca03da5_0 \n",
      "  gmpy2              pkgs/main/osx-arm64::gmpy2-2.1.2-py310h8c48613_0 \n",
      "  jinja2             pkgs/main/osx-arm64::jinja2-3.1.2-py310hca03da5_0 \n",
      "  mpc                pkgs/main/osx-arm64::mpc-1.1.0-h8c48613_1 \n",
      "  mpfr               pkgs/main/osx-arm64::mpfr-4.0.2-h695f6f0_1 \n",
      "  mpmath             pkgs/main/osx-arm64::mpmath-1.3.0-py310hca03da5_0 \n",
      "  networkx           pkgs/main/osx-arm64::networkx-3.1-py310hca03da5_0 \n",
      "  pytorch            pytorch/osx-arm64::pytorch-2.0.1-py3.10_0 \n",
      "  sympy              pkgs/main/osx-arm64::sympy-1.11.1-py310hca03da5_0 \n",
      "  torchvision        pytorch/osx-arm64::torchvision-0.15.2-py310_cpu \n",
      "\n",
      "\n",
      "Proceed ([y]/n)? ^C\n",
      "\n",
      "CondaSystemExit: \n",
      "Operation aborted.  Exiting.\n",
      "\n"
     ]
    }
   ],
   "source": [
    "!conda install pytorch torchvision -c pytorch"
   ]
  }
 ],
 "metadata": {
  "kernelspec": {
   "display_name": "Python 3",
   "language": "python",
   "name": "python3"
  },
  "language_info": {
   "codemirror_mode": {
    "name": "ipython",
    "version": 3
   },
   "file_extension": ".py",
   "mimetype": "text/x-python",
   "name": "python",
   "nbconvert_exporter": "python",
   "pygments_lexer": "ipython3",
   "version": "3.10.12"
  },
  "orig_nbformat": 4
 },
 "nbformat": 4,
 "nbformat_minor": 2
}
